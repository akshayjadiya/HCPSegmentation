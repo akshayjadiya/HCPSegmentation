{
 "metadata": {
  "language_info": {
   "codemirror_mode": {
    "name": "ipython",
    "version": 3
   },
   "file_extension": ".py",
   "mimetype": "text/x-python",
   "name": "python",
   "nbconvert_exporter": "python",
   "pygments_lexer": "ipython3",
   "version": "3.9.5"
  },
  "orig_nbformat": 4,
  "kernelspec": {
   "name": "python3",
   "display_name": "Python 3.9.5 64-bit (windows store)"
  },
  "interpreter": {
   "hash": "e649322d1a5b650580933cf29326a723de97945f089d3b24dbb6c446111491b3"
  }
 },
 "nbformat": 4,
 "nbformat_minor": 2,
 "cells": [
  {
   "cell_type": "code",
   "execution_count": 1,
   "metadata": {},
   "outputs": [
    {
     "output_type": "stream",
     "name": "stdout",
     "text": [
      "Collecting jsonlines\n  Downloading jsonlines-2.0.0-py3-none-any.whl (6.3 kB)\nInstalling collected packages: jsonlines\nSuccessfully installed jsonlines-2.0.0\n"
     ]
    }
   ],
   "source": [
    "!pip install jsonlines"
   ]
  },
  {
   "cell_type": "code",
   "execution_count": 34,
   "metadata": {},
   "outputs": [],
   "source": [
    "import jsonlines as jl \n",
    "import pandas as pd \n",
    "import os \n",
    "import numpy as np "
   ]
  },
  {
   "cell_type": "code",
   "execution_count": 29,
   "metadata": {},
   "outputs": [
    {
     "output_type": "execute_result",
     "data": {
      "text/plain": [
       "                             cms_prescription_counts  \\\n",
       "0  {'DOXAZOSIN MESYLATE': 26, 'MIDODRINE HCL': 12...   \n",
       "1  {'CEPHALEXIN': 23, 'AMOXICILLIN': 52, 'HYDROCO...   \n",
       "2  {'CEPHALEXIN': 28, 'AMOXICILLIN': 73, 'CLINDAM...   \n",
       "3                                {'AMOXICILLIN': 63}   \n",
       "4  {'PIOGLITAZONE HCL': 24, 'BENAZEPRIL HCL': 29,...   \n",
       "\n",
       "                                  provider_variables         npi  \n",
       "0  {'settlement_type': 'non-urban', 'generic_rx_c...  1295763035  \n",
       "1  {'settlement_type': 'non-urban', 'generic_rx_c...  1992715205  \n",
       "2  {'settlement_type': 'non-urban', 'generic_rx_c...  1578587630  \n",
       "3  {'settlement_type': 'non-urban', 'generic_rx_c...  1932278405  \n",
       "4  {'settlement_type': 'non-urban', 'generic_rx_c...  1437366804  "
      ],
      "text/html": "<div>\n<style scoped>\n    .dataframe tbody tr th:only-of-type {\n        vertical-align: middle;\n    }\n\n    .dataframe tbody tr th {\n        vertical-align: top;\n    }\n\n    .dataframe thead th {\n        text-align: right;\n    }\n</style>\n<table border=\"1\" class=\"dataframe\">\n  <thead>\n    <tr style=\"text-align: right;\">\n      <th></th>\n      <th>cms_prescription_counts</th>\n      <th>provider_variables</th>\n      <th>npi</th>\n    </tr>\n  </thead>\n  <tbody>\n    <tr>\n      <th>0</th>\n      <td>{'DOXAZOSIN MESYLATE': 26, 'MIDODRINE HCL': 12...</td>\n      <td>{'settlement_type': 'non-urban', 'generic_rx_c...</td>\n      <td>1295763035</td>\n    </tr>\n    <tr>\n      <th>1</th>\n      <td>{'CEPHALEXIN': 23, 'AMOXICILLIN': 52, 'HYDROCO...</td>\n      <td>{'settlement_type': 'non-urban', 'generic_rx_c...</td>\n      <td>1992715205</td>\n    </tr>\n    <tr>\n      <th>2</th>\n      <td>{'CEPHALEXIN': 28, 'AMOXICILLIN': 73, 'CLINDAM...</td>\n      <td>{'settlement_type': 'non-urban', 'generic_rx_c...</td>\n      <td>1578587630</td>\n    </tr>\n    <tr>\n      <th>3</th>\n      <td>{'AMOXICILLIN': 63}</td>\n      <td>{'settlement_type': 'non-urban', 'generic_rx_c...</td>\n      <td>1932278405</td>\n    </tr>\n    <tr>\n      <th>4</th>\n      <td>{'PIOGLITAZONE HCL': 24, 'BENAZEPRIL HCL': 29,...</td>\n      <td>{'settlement_type': 'non-urban', 'generic_rx_c...</td>\n      <td>1437366804</td>\n    </tr>\n  </tbody>\n</table>\n</div>"
     },
     "metadata": {},
     "execution_count": 29
    }
   ],
   "source": [
    "df = pd.read_json('roam_prescription_based_prediction.jsonl' , lines=True)\n",
    "df.head()"
   ]
  },
  {
   "cell_type": "code",
   "execution_count": 32,
   "metadata": {},
   "outputs": [
    {
     "output_type": "execute_result",
     "data": {
      "text/plain": [
       "2397"
      ]
     },
     "metadata": {},
     "execution_count": 32
    }
   ],
   "source": [
    "unique_drugs = set()\n",
    "for dct in df['cms_prescription_counts'].values:\n",
    "    for item in dct.keys():\n",
    "        unique_drugs.add(item)\n",
    "len(unique_drugs)"
   ]
  },
  {
   "cell_type": "code",
   "execution_count": 33,
   "metadata": {},
   "outputs": [
    {
     "output_type": "stream",
     "name": "stdout",
     "text": [
      "{'cms_prescription_counts': {'DOXAZOSIN MESYLATE': 26, 'MIDODRINE HCL': 12, 'MEGESTROL ACETATE': 11, 'BENAZEPRIL HCL': 11, 'METOLAZONE': 73, 'NOVOLOG': 12, 'DIAZEPAM': 24, 'HYDRALAZINE HCL': 50, 'SENSIPAR': 94, 'LABETALOL HCL': 28, 'PREDNISONE': 40, 'CALCITRIOL': 79, 'HYDROCODONE-ACETAMINOPHEN': 64, 'HYDROCHLOROTHIAZIDE': 59, 'LOSARTAN-HYDROCHLOROTHIAZIDE': 14, 'FENOFIBRATE': 14, 'MINOXIDIL': 14, 'MELOXICAM': 29, 'ATENOLOL': 62, 'CARISOPRODOL': 40, 'GABAPENTIN': 35, 'OMEPRAZOLE': 35, 'KLOR-CON M10': 20, 'LANTUS': 20, 'AMLODIPINE BESYLATE': 175, 'CARVEDILOL': 36, 'LOSARTAN POTASSIUM': 41, 'IRBESARTAN': 11, 'NIFEDICAL XL': 32, 'NIFEDIPINE ER': 51, 'LEVOTHYROXINE SODIUM': 12, 'POTASSIUM CHLORIDE': 30, 'FUROSEMIDE': 162, 'GLYBURIDE': 16, 'CLONIDINE HCL': 43, 'TEMAZEPAM': 41, 'SPIRONOLACTONE': 50, 'LOVASTATIN': 11, 'LISINOPRIL': 44, 'PANTOPRAZOLE SODIUM': 13, 'CALCIUM ACETATE': 85, 'NEXIUM': 44, 'ZOLPIDEM TARTRATE': 41, 'DIOVAN': 20, 'OXYCODONE HCL': 51, 'METOPROLOL SUCCINATE': 104, 'RANITIDINE HCL': 21, 'ATORVASTATIN CALCIUM': 19, 'TAMSULOSIN HCL': 14, 'OXYBUTYNIN CHLORIDE': 11, 'LISINOPRIL-HYDROCHLOROTHIAZIDE': 19, 'METOPROLOL TARTRATE': 93, 'AMLODIPINE BESYLATE-BENAZEPRIL': 12, 'BUMETANIDE': 53, 'BYSTOLIC': 14, 'ISOSORBIDE MONONITRATE ER': 13, 'ALLOPURINOL': 86, 'CLOPIDOGREL': 22, 'RENVELA': 117, 'ABILIFY': 11, 'SERTRALINE HCL': 14, 'CIPROFLOXACIN HCL': 19, 'SIMVASTATIN': 14, 'PRAVASTATIN SODIUM': 13, 'ATENOLOL-CHLORTHALIDONE': 53, 'ALPRAZOLAM': 45, 'AZITHROMYCIN': 18, 'TRAMADOL HCL': 11}, 'provider_variables': {'settlement_type': 'non-urban', 'generic_rx_count': 2287, 'specialty': 'Nephrology', 'years_practicing': 7, 'gender': 'M', 'region': 'South', 'brand_name_rx_count': 384}, 'npi': '1295763035'}\n"
     ]
    }
   ],
   "source": [
    "with jl.open('roam_prescription_based_prediction.jsonl') as file_:\n",
    "    for obj in file_:\n",
    "        print(obj)\n",
    "        break"
   ]
  },
  {
   "cell_type": "code",
   "execution_count": 60,
   "metadata": {},
   "outputs": [],
   "source": [
    "# Identified our product as PREDNISONE\n",
    "# Market drugs as METOLAZONE,OMEPRAZOLE,LISINOPRIL\n",
    "def get_prednisone_rx(drug_dct):\n",
    "    if('PREDNISONE' in list(drug_dct.keys())):\n",
    "        return drug_dct['PREDNISONE']\n",
    "    else:\n",
    "        return 0\n",
    "\n",
    "def get_market_rx(drug_dct):\n",
    "    total_rx = 0\n",
    "    if('PREDNISONE' in list(drug_dct.keys())):\n",
    "        total_rx += drug_dct['PREDNISONE']\n",
    "    if('METOLAZONE' in list(drug_dct.keys())):\n",
    "        total_rx += drug_dct['METOLAZONE']\n",
    "    if('OMEPRAZOLE' in list(drug_dct.keys())):\n",
    "        total_rx += drug_dct['OMEPRAZOLE']\n",
    "    if('LISINOPRIL' in list(drug_dct.keys())):\n",
    "        total_rx += drug_dct['LISINOPRIL']\n",
    "    return total_rx"
   ]
  },
  {
   "cell_type": "code",
   "execution_count": 61,
   "metadata": {},
   "outputs": [],
   "source": [
    "df['prednisone_rx'] = df['cms_prescription_counts'].apply(get_prednisone_rx)\n",
    "df['market_rx'] = df['cms_prescription_counts'].apply(get_market_rx)"
   ]
  },
  {
   "cell_type": "code",
   "execution_count": 62,
   "metadata": {},
   "outputs": [
    {
     "output_type": "execute_result",
     "data": {
      "text/plain": [
       "0       149265\n",
       "12        2621\n",
       "11        2616\n",
       "13        2126\n",
       "14        1744\n",
       "         ...  \n",
       "1824         1\n",
       "1312         1\n",
       "4325         1\n",
       "1099         1\n",
       "1663         1\n",
       "Name: market_rx, Length: 1520, dtype: int64"
      ]
     },
     "metadata": {},
     "execution_count": 62
    }
   ],
   "source": [
    "df['market_rx'].value_counts()"
   ]
  },
  {
   "cell_type": "code",
   "execution_count": 213,
   "metadata": {},
   "outputs": [],
   "source": [
    "df_pred_market = df.loc[df['market_rx'] > 0,:].copy()"
   ]
  },
  {
   "cell_type": "code",
   "execution_count": 214,
   "metadata": {},
   "outputs": [
    {
     "output_type": "execute_result",
     "data": {
      "text/plain": [
       "(90665, 5)"
      ]
     },
     "metadata": {},
     "execution_count": 214
    }
   ],
   "source": [
    "df_pred_market.shape"
   ]
  },
  {
   "cell_type": "code",
   "execution_count": 215,
   "metadata": {},
   "outputs": [
    {
     "output_type": "execute_result",
     "data": {
      "text/plain": [
       "239930"
      ]
     },
     "metadata": {},
     "execution_count": 215
    }
   ],
   "source": [
    "149265+90665"
   ]
  },
  {
   "cell_type": "code",
   "execution_count": 216,
   "metadata": {},
   "outputs": [
    {
     "output_type": "execute_result",
     "data": {
      "text/plain": [
       "(239930, 5)"
      ]
     },
     "metadata": {},
     "execution_count": 216
    }
   ],
   "source": [
    "df.shape"
   ]
  },
  {
   "cell_type": "code",
   "execution_count": 217,
   "metadata": {},
   "outputs": [
    {
     "output_type": "execute_result",
     "data": {
      "text/plain": [
       "                              cms_prescription_counts  \\\n",
       "0   {'DOXAZOSIN MESYLATE': 26, 'MIDODRINE HCL': 12...   \n",
       "4   {'PIOGLITAZONE HCL': 24, 'BENAZEPRIL HCL': 29,...   \n",
       "8   {'CARAFATE': 16, 'CARBIDOPA-LEVODOPA': 29, 'PR...   \n",
       "12  {'GABAPENTIN': 24, 'ALLOPURINOL': 14, 'HUMIRA'...   \n",
       "14  {'CARAFATE': 19, 'OMEPRAZOLE': 133, 'HUMIRA': ...   \n",
       "\n",
       "                                   provider_variables         npi  \\\n",
       "0   {'settlement_type': 'non-urban', 'generic_rx_c...  1295763035   \n",
       "4   {'settlement_type': 'non-urban', 'generic_rx_c...  1437366804   \n",
       "8   {'settlement_type': 'urban', 'generic_rx_count...  1316196462   \n",
       "12  {'settlement_type': 'non-urban', 'generic_rx_c...  1033483755   \n",
       "14  {'settlement_type': 'non-urban', 'generic_rx_c...  1518951466   \n",
       "\n",
       "    prednisone_rx  market_rx  \n",
       "0              40        192  \n",
       "4               0         77  \n",
       "8              61        318  \n",
       "12             57         57  \n",
       "14              0        145  "
      ],
      "text/html": "<div>\n<style scoped>\n    .dataframe tbody tr th:only-of-type {\n        vertical-align: middle;\n    }\n\n    .dataframe tbody tr th {\n        vertical-align: top;\n    }\n\n    .dataframe thead th {\n        text-align: right;\n    }\n</style>\n<table border=\"1\" class=\"dataframe\">\n  <thead>\n    <tr style=\"text-align: right;\">\n      <th></th>\n      <th>cms_prescription_counts</th>\n      <th>provider_variables</th>\n      <th>npi</th>\n      <th>prednisone_rx</th>\n      <th>market_rx</th>\n    </tr>\n  </thead>\n  <tbody>\n    <tr>\n      <th>0</th>\n      <td>{'DOXAZOSIN MESYLATE': 26, 'MIDODRINE HCL': 12...</td>\n      <td>{'settlement_type': 'non-urban', 'generic_rx_c...</td>\n      <td>1295763035</td>\n      <td>40</td>\n      <td>192</td>\n    </tr>\n    <tr>\n      <th>4</th>\n      <td>{'PIOGLITAZONE HCL': 24, 'BENAZEPRIL HCL': 29,...</td>\n      <td>{'settlement_type': 'non-urban', 'generic_rx_c...</td>\n      <td>1437366804</td>\n      <td>0</td>\n      <td>77</td>\n    </tr>\n    <tr>\n      <th>8</th>\n      <td>{'CARAFATE': 16, 'CARBIDOPA-LEVODOPA': 29, 'PR...</td>\n      <td>{'settlement_type': 'urban', 'generic_rx_count...</td>\n      <td>1316196462</td>\n      <td>61</td>\n      <td>318</td>\n    </tr>\n    <tr>\n      <th>12</th>\n      <td>{'GABAPENTIN': 24, 'ALLOPURINOL': 14, 'HUMIRA'...</td>\n      <td>{'settlement_type': 'non-urban', 'generic_rx_c...</td>\n      <td>1033483755</td>\n      <td>57</td>\n      <td>57</td>\n    </tr>\n    <tr>\n      <th>14</th>\n      <td>{'CARAFATE': 19, 'OMEPRAZOLE': 133, 'HUMIRA': ...</td>\n      <td>{'settlement_type': 'non-urban', 'generic_rx_c...</td>\n      <td>1518951466</td>\n      <td>0</td>\n      <td>145</td>\n    </tr>\n  </tbody>\n</table>\n</div>"
     },
     "metadata": {},
     "execution_count": 217
    }
   ],
   "source": [
    "df_pred_market.head()"
   ]
  },
  {
   "cell_type": "code",
   "execution_count": 218,
   "metadata": {},
   "outputs": [],
   "source": [
    "# Create market and product deciles\n",
    "df_pred_market_zero_pred = df_pred_market.loc[df_pred_market['prednisone_rx'] == 0,:].copy()\n",
    "df_pred_market_nz_pred = df_pred_market.loc[df_pred_market['prednisone_rx'] > 0,:].copy()\n",
    "\n",
    "# Create deciles for non zero prednisone_rx\n",
    "df_pred_market_nz_pred['prednisone_decile'] = pd.qcut(df_pred_market_nz_pred['prednisone_rx'] , q = [0,0.1,0.2,0.3,0.4,0.5,0.6,0.7,0.8,0.9,1.0] , labels=[1,2,3,4,5,6,7,8,9,10])\n",
    "\n",
    "# Assign 0 zero decile \n",
    "df_pred_market_zero_pred['prednisone_decile'] = 0\n",
    "\n",
    "# Create deciles for market_rx (all are non zero)\n",
    "df_pred_market['market_decile'] = pd.qcut(df_pred_market['market_rx'] , q = [0,0.1,0.2,0.3,0.4,0.5,0.6,0.7,0.8,0.9,1.0] , labels=[1,2,3,4,5,6,7,8,9,10] )"
   ]
  },
  {
   "cell_type": "code",
   "execution_count": 219,
   "metadata": {},
   "outputs": [
    {
     "output_type": "execute_result",
     "data": {
      "text/plain": [
       "                              cms_prescription_counts  \\\n",
       "4   {'PIOGLITAZONE HCL': 24, 'BENAZEPRIL HCL': 29,...   \n",
       "14  {'CARAFATE': 19, 'OMEPRAZOLE': 133, 'HUMIRA': ...   \n",
       "18  {'LEVOFLOXACIN': 12, 'OMEPRAZOLE': 35, 'REVLIM...   \n",
       "20  {'CLONAZEPAM': 11, 'ENALAPRIL MALEATE': 25, 'S...   \n",
       "31  {'BENAZEPRIL HCL': 16, 'INSULIN SYRINGE': 11, ...   \n",
       "\n",
       "                                   provider_variables         npi  \\\n",
       "4   {'settlement_type': 'non-urban', 'generic_rx_c...  1437366804   \n",
       "14  {'settlement_type': 'non-urban', 'generic_rx_c...  1518951466   \n",
       "18  {'settlement_type': 'non-urban', 'generic_rx_c...  1013940501   \n",
       "20  {'settlement_type': 'non-urban', 'generic_rx_c...  1275533044   \n",
       "31  {'settlement_type': 'non-urban', 'generic_rx_c...  1669526109   \n",
       "\n",
       "    prednisone_rx  market_rx  prednisone_decile  \n",
       "4               0         77                  0  \n",
       "14              0        145                  0  \n",
       "18              0         35                  0  \n",
       "20              0        221                  0  \n",
       "31              0        136                  0  "
      ],
      "text/html": "<div>\n<style scoped>\n    .dataframe tbody tr th:only-of-type {\n        vertical-align: middle;\n    }\n\n    .dataframe tbody tr th {\n        vertical-align: top;\n    }\n\n    .dataframe thead th {\n        text-align: right;\n    }\n</style>\n<table border=\"1\" class=\"dataframe\">\n  <thead>\n    <tr style=\"text-align: right;\">\n      <th></th>\n      <th>cms_prescription_counts</th>\n      <th>provider_variables</th>\n      <th>npi</th>\n      <th>prednisone_rx</th>\n      <th>market_rx</th>\n      <th>prednisone_decile</th>\n    </tr>\n  </thead>\n  <tbody>\n    <tr>\n      <th>4</th>\n      <td>{'PIOGLITAZONE HCL': 24, 'BENAZEPRIL HCL': 29,...</td>\n      <td>{'settlement_type': 'non-urban', 'generic_rx_c...</td>\n      <td>1437366804</td>\n      <td>0</td>\n      <td>77</td>\n      <td>0</td>\n    </tr>\n    <tr>\n      <th>14</th>\n      <td>{'CARAFATE': 19, 'OMEPRAZOLE': 133, 'HUMIRA': ...</td>\n      <td>{'settlement_type': 'non-urban', 'generic_rx_c...</td>\n      <td>1518951466</td>\n      <td>0</td>\n      <td>145</td>\n      <td>0</td>\n    </tr>\n    <tr>\n      <th>18</th>\n      <td>{'LEVOFLOXACIN': 12, 'OMEPRAZOLE': 35, 'REVLIM...</td>\n      <td>{'settlement_type': 'non-urban', 'generic_rx_c...</td>\n      <td>1013940501</td>\n      <td>0</td>\n      <td>35</td>\n      <td>0</td>\n    </tr>\n    <tr>\n      <th>20</th>\n      <td>{'CLONAZEPAM': 11, 'ENALAPRIL MALEATE': 25, 'S...</td>\n      <td>{'settlement_type': 'non-urban', 'generic_rx_c...</td>\n      <td>1275533044</td>\n      <td>0</td>\n      <td>221</td>\n      <td>0</td>\n    </tr>\n    <tr>\n      <th>31</th>\n      <td>{'BENAZEPRIL HCL': 16, 'INSULIN SYRINGE': 11, ...</td>\n      <td>{'settlement_type': 'non-urban', 'generic_rx_c...</td>\n      <td>1669526109</td>\n      <td>0</td>\n      <td>136</td>\n      <td>0</td>\n    </tr>\n  </tbody>\n</table>\n</div>"
     },
     "metadata": {},
     "execution_count": 219
    }
   ],
   "source": [
    "df_pred_market_zero_pred.head()"
   ]
  },
  {
   "cell_type": "code",
   "execution_count": 220,
   "metadata": {},
   "outputs": [
    {
     "output_type": "execute_result",
     "data": {
      "text/plain": [
       "                              cms_prescription_counts  \\\n",
       "0   {'DOXAZOSIN MESYLATE': 26, 'MIDODRINE HCL': 12...   \n",
       "8   {'CARAFATE': 16, 'CARBIDOPA-LEVODOPA': 29, 'PR...   \n",
       "12  {'GABAPENTIN': 24, 'ALLOPURINOL': 14, 'HUMIRA'...   \n",
       "17  {'OMEPRAZOLE': 11, 'TARGRETIN': 11, 'LEVOTHYRO...   \n",
       "23  {'PROVENTIL HFA': 20, 'ADVAIR DISKUS': 120, 'V...   \n",
       "\n",
       "                                   provider_variables         npi  \\\n",
       "0   {'settlement_type': 'non-urban', 'generic_rx_c...  1295763035   \n",
       "8   {'settlement_type': 'urban', 'generic_rx_count...  1316196462   \n",
       "12  {'settlement_type': 'non-urban', 'generic_rx_c...  1033483755   \n",
       "17  {'settlement_type': 'non-urban', 'generic_rx_c...  1881850626   \n",
       "23  {'settlement_type': 'urban', 'generic_rx_count...  1992021687   \n",
       "\n",
       "    prednisone_rx  market_rx prednisone_decile  \n",
       "0              40        192                 7  \n",
       "8              61        318                 8  \n",
       "12             57         57                 8  \n",
       "17             37         48                 7  \n",
       "23            126        126                 9  "
      ],
      "text/html": "<div>\n<style scoped>\n    .dataframe tbody tr th:only-of-type {\n        vertical-align: middle;\n    }\n\n    .dataframe tbody tr th {\n        vertical-align: top;\n    }\n\n    .dataframe thead th {\n        text-align: right;\n    }\n</style>\n<table border=\"1\" class=\"dataframe\">\n  <thead>\n    <tr style=\"text-align: right;\">\n      <th></th>\n      <th>cms_prescription_counts</th>\n      <th>provider_variables</th>\n      <th>npi</th>\n      <th>prednisone_rx</th>\n      <th>market_rx</th>\n      <th>prednisone_decile</th>\n    </tr>\n  </thead>\n  <tbody>\n    <tr>\n      <th>0</th>\n      <td>{'DOXAZOSIN MESYLATE': 26, 'MIDODRINE HCL': 12...</td>\n      <td>{'settlement_type': 'non-urban', 'generic_rx_c...</td>\n      <td>1295763035</td>\n      <td>40</td>\n      <td>192</td>\n      <td>7</td>\n    </tr>\n    <tr>\n      <th>8</th>\n      <td>{'CARAFATE': 16, 'CARBIDOPA-LEVODOPA': 29, 'PR...</td>\n      <td>{'settlement_type': 'urban', 'generic_rx_count...</td>\n      <td>1316196462</td>\n      <td>61</td>\n      <td>318</td>\n      <td>8</td>\n    </tr>\n    <tr>\n      <th>12</th>\n      <td>{'GABAPENTIN': 24, 'ALLOPURINOL': 14, 'HUMIRA'...</td>\n      <td>{'settlement_type': 'non-urban', 'generic_rx_c...</td>\n      <td>1033483755</td>\n      <td>57</td>\n      <td>57</td>\n      <td>8</td>\n    </tr>\n    <tr>\n      <th>17</th>\n      <td>{'OMEPRAZOLE': 11, 'TARGRETIN': 11, 'LEVOTHYRO...</td>\n      <td>{'settlement_type': 'non-urban', 'generic_rx_c...</td>\n      <td>1881850626</td>\n      <td>37</td>\n      <td>48</td>\n      <td>7</td>\n    </tr>\n    <tr>\n      <th>23</th>\n      <td>{'PROVENTIL HFA': 20, 'ADVAIR DISKUS': 120, 'V...</td>\n      <td>{'settlement_type': 'urban', 'generic_rx_count...</td>\n      <td>1992021687</td>\n      <td>126</td>\n      <td>126</td>\n      <td>9</td>\n    </tr>\n  </tbody>\n</table>\n</div>"
     },
     "metadata": {},
     "execution_count": 220
    }
   ],
   "source": [
    "df_pred_market_nz_pred.head()"
   ]
  },
  {
   "cell_type": "code",
   "execution_count": 221,
   "metadata": {},
   "outputs": [
    {
     "output_type": "execute_result",
     "data": {
      "text/plain": [
       "cms_prescription_counts    0\n",
       "provider_variables         0\n",
       "npi                        0\n",
       "prednisone_rx              0\n",
       "market_rx                  0\n",
       "prednisone_decile          0\n",
       "dtype: int64"
      ]
     },
     "metadata": {},
     "execution_count": 221
    }
   ],
   "source": [
    "df_pred_market_zero_pred.isna().sum()"
   ]
  },
  {
   "cell_type": "code",
   "execution_count": 222,
   "metadata": {},
   "outputs": [
    {
     "output_type": "execute_result",
     "data": {
      "text/plain": [
       "cms_prescription_counts    0\n",
       "provider_variables         0\n",
       "npi                        0\n",
       "prednisone_rx              0\n",
       "market_rx                  0\n",
       "prednisone_decile          0\n",
       "dtype: int64"
      ]
     },
     "metadata": {},
     "execution_count": 222
    }
   ],
   "source": [
    "df_pred_market_nz_pred.isna().sum()"
   ]
  },
  {
   "cell_type": "code",
   "execution_count": 223,
   "metadata": {},
   "outputs": [
    {
     "output_type": "execute_result",
     "data": {
      "text/plain": [
       "Series([], Name: prednisone_rx, dtype: int64)"
      ]
     },
     "metadata": {},
     "execution_count": 223
    }
   ],
   "source": [
    "df_pred_market_nz_pred[df_pred_market_nz_pred['prednisone_decile'].isna()]['prednisone_rx'].value_counts()"
   ]
  },
  {
   "cell_type": "code",
   "execution_count": 224,
   "metadata": {},
   "outputs": [
    {
     "output_type": "execute_result",
     "data": {
      "text/plain": [
       "11      2280\n",
       "12      2122\n",
       "13      1884\n",
       "14      1662\n",
       "15      1614\n",
       "        ... \n",
       "687        1\n",
       "623        1\n",
       "2286       1\n",
       "1166       1\n",
       "1311       1\n",
       "Name: prednisone_rx, Length: 846, dtype: int64"
      ]
     },
     "metadata": {},
     "execution_count": 224
    }
   ],
   "source": [
    "df_pred_market_nz_pred['prednisone_rx'].value_counts()"
   ]
  },
  {
   "cell_type": "code",
   "execution_count": 225,
   "metadata": {},
   "outputs": [],
   "source": [
    "df_total_pred = df_pred_market_zero_pred.append(df_pred_market_nz_pred)"
   ]
  },
  {
   "cell_type": "code",
   "execution_count": 226,
   "metadata": {},
   "outputs": [
    {
     "output_type": "execute_result",
     "data": {
      "text/plain": [
       "(90665, 6)"
      ]
     },
     "metadata": {},
     "execution_count": 226
    }
   ],
   "source": [
    "df_total_pred.shape"
   ]
  },
  {
   "cell_type": "code",
   "execution_count": 227,
   "metadata": {},
   "outputs": [
    {
     "output_type": "execute_result",
     "data": {
      "text/plain": [
       "cms_prescription_counts    0\n",
       "provider_variables         0\n",
       "npi                        0\n",
       "prednisone_rx              0\n",
       "market_rx                  0\n",
       "prednisone_decile          0\n",
       "dtype: int64"
      ]
     },
     "metadata": {},
     "execution_count": 227
    }
   ],
   "source": [
    "df_total_pred.isna().sum()"
   ]
  },
  {
   "cell_type": "code",
   "execution_count": 228,
   "metadata": {},
   "outputs": [
    {
     "output_type": "execute_result",
     "data": {
      "text/plain": [
       "12      2621\n",
       "11      2616\n",
       "13      2126\n",
       "14      1744\n",
       "15      1548\n",
       "        ... \n",
       "1130       1\n",
       "3085       1\n",
       "2347       1\n",
       "1292       1\n",
       "1663       1\n",
       "Name: market_rx, Length: 1519, dtype: int64"
      ]
     },
     "metadata": {},
     "execution_count": 228
    }
   ],
   "source": [
    "df_pred_market['market_rx'].value_counts()"
   ]
  },
  {
   "cell_type": "code",
   "execution_count": 229,
   "metadata": {},
   "outputs": [
    {
     "output_type": "execute_result",
     "data": {
      "text/plain": [
       "Series([], Name: market_rx, dtype: int64)"
      ]
     },
     "metadata": {},
     "execution_count": 229
    }
   ],
   "source": [
    "df_pred_market[df_pred_market['market_decile'].isna()]['market_rx'].value_counts()"
   ]
  },
  {
   "cell_type": "code",
   "execution_count": null,
   "metadata": {},
   "outputs": [],
   "source": []
  },
  {
   "cell_type": "code",
   "execution_count": 230,
   "metadata": {},
   "outputs": [],
   "source": [
    "df_with_decile = pd.merge(df_total_pred , df_pred_market[['npi','market_decile']] , on = 'npi' , how = 'inner')"
   ]
  },
  {
   "cell_type": "code",
   "execution_count": 231,
   "metadata": {},
   "outputs": [
    {
     "output_type": "execute_result",
     "data": {
      "text/plain": [
       "                             cms_prescription_counts  \\\n",
       "0  {'PIOGLITAZONE HCL': 24, 'BENAZEPRIL HCL': 29,...   \n",
       "1  {'CARAFATE': 19, 'OMEPRAZOLE': 133, 'HUMIRA': ...   \n",
       "2  {'LEVOFLOXACIN': 12, 'OMEPRAZOLE': 35, 'REVLIM...   \n",
       "3  {'CLONAZEPAM': 11, 'ENALAPRIL MALEATE': 25, 'S...   \n",
       "4  {'BENAZEPRIL HCL': 16, 'INSULIN SYRINGE': 11, ...   \n",
       "\n",
       "                                  provider_variables         npi  \\\n",
       "0  {'settlement_type': 'non-urban', 'generic_rx_c...  1437366804   \n",
       "1  {'settlement_type': 'non-urban', 'generic_rx_c...  1518951466   \n",
       "2  {'settlement_type': 'non-urban', 'generic_rx_c...  1013940501   \n",
       "3  {'settlement_type': 'non-urban', 'generic_rx_c...  1275533044   \n",
       "4  {'settlement_type': 'non-urban', 'generic_rx_c...  1669526109   \n",
       "\n",
       "   prednisone_rx  market_rx  prednisone_decile market_decile  \n",
       "0              0         77                  0             5  \n",
       "1              0        145                  0             7  \n",
       "2              0         35                  0             3  \n",
       "3              0        221                  0             8  \n",
       "4              0        136                  0             7  "
      ],
      "text/html": "<div>\n<style scoped>\n    .dataframe tbody tr th:only-of-type {\n        vertical-align: middle;\n    }\n\n    .dataframe tbody tr th {\n        vertical-align: top;\n    }\n\n    .dataframe thead th {\n        text-align: right;\n    }\n</style>\n<table border=\"1\" class=\"dataframe\">\n  <thead>\n    <tr style=\"text-align: right;\">\n      <th></th>\n      <th>cms_prescription_counts</th>\n      <th>provider_variables</th>\n      <th>npi</th>\n      <th>prednisone_rx</th>\n      <th>market_rx</th>\n      <th>prednisone_decile</th>\n      <th>market_decile</th>\n    </tr>\n  </thead>\n  <tbody>\n    <tr>\n      <th>0</th>\n      <td>{'PIOGLITAZONE HCL': 24, 'BENAZEPRIL HCL': 29,...</td>\n      <td>{'settlement_type': 'non-urban', 'generic_rx_c...</td>\n      <td>1437366804</td>\n      <td>0</td>\n      <td>77</td>\n      <td>0</td>\n      <td>5</td>\n    </tr>\n    <tr>\n      <th>1</th>\n      <td>{'CARAFATE': 19, 'OMEPRAZOLE': 133, 'HUMIRA': ...</td>\n      <td>{'settlement_type': 'non-urban', 'generic_rx_c...</td>\n      <td>1518951466</td>\n      <td>0</td>\n      <td>145</td>\n      <td>0</td>\n      <td>7</td>\n    </tr>\n    <tr>\n      <th>2</th>\n      <td>{'LEVOFLOXACIN': 12, 'OMEPRAZOLE': 35, 'REVLIM...</td>\n      <td>{'settlement_type': 'non-urban', 'generic_rx_c...</td>\n      <td>1013940501</td>\n      <td>0</td>\n      <td>35</td>\n      <td>0</td>\n      <td>3</td>\n    </tr>\n    <tr>\n      <th>3</th>\n      <td>{'CLONAZEPAM': 11, 'ENALAPRIL MALEATE': 25, 'S...</td>\n      <td>{'settlement_type': 'non-urban', 'generic_rx_c...</td>\n      <td>1275533044</td>\n      <td>0</td>\n      <td>221</td>\n      <td>0</td>\n      <td>8</td>\n    </tr>\n    <tr>\n      <th>4</th>\n      <td>{'BENAZEPRIL HCL': 16, 'INSULIN SYRINGE': 11, ...</td>\n      <td>{'settlement_type': 'non-urban', 'generic_rx_c...</td>\n      <td>1669526109</td>\n      <td>0</td>\n      <td>136</td>\n      <td>0</td>\n      <td>7</td>\n    </tr>\n  </tbody>\n</table>\n</div>"
     },
     "metadata": {},
     "execution_count": 231
    }
   ],
   "source": [
    "df_with_decile.head()"
   ]
  },
  {
   "cell_type": "code",
   "execution_count": 232,
   "metadata": {},
   "outputs": [
    {
     "output_type": "execute_result",
     "data": {
      "text/plain": [
       "(90665, 7)"
      ]
     },
     "metadata": {},
     "execution_count": 232
    }
   ],
   "source": [
    "df_with_decile.shape"
   ]
  },
  {
   "cell_type": "code",
   "execution_count": 233,
   "metadata": {},
   "outputs": [
    {
     "output_type": "execute_result",
     "data": {
      "text/plain": [
       "cms_prescription_counts    0\n",
       "provider_variables         0\n",
       "npi                        0\n",
       "prednisone_rx              0\n",
       "market_rx                  0\n",
       "prednisone_decile          0\n",
       "market_decile              0\n",
       "dtype: int64"
      ]
     },
     "metadata": {},
     "execution_count": 233
    }
   ],
   "source": [
    "df_with_decile.isna().sum()"
   ]
  },
  {
   "cell_type": "code",
   "execution_count": 234,
   "metadata": {},
   "outputs": [
    {
     "output_type": "execute_result",
     "data": {
      "text/plain": [
       "2     5160\n",
       "4     4460\n",
       "1     4402\n",
       "8     4011\n",
       "6     4004\n",
       "10    3982\n",
       "9     3911\n",
       "7     3887\n",
       "5     3377\n",
       "3     2683\n",
       "Name: prednisone_decile, dtype: int64"
      ]
     },
     "metadata": {},
     "execution_count": 234
    }
   ],
   "source": [
    "df_pred_market_nz_pred['prednisone_decile'].value_counts()"
   ]
  },
  {
   "cell_type": "code",
   "execution_count": 235,
   "metadata": {},
   "outputs": [
    {
     "output_type": "execute_result",
     "data": {
      "text/plain": [
       "                       sum  count\n",
       "prednisone_decile                \n",
       "0                        0  50788\n",
       "1                    50544   4402\n",
       "2                    71970   5160\n",
       "3                    44226   2683\n",
       "4                    86665   4460\n",
       "5                    79185   3377\n",
       "6                   114994   4004\n",
       "7                   145761   3887\n",
       "8                   213332   4011\n",
       "9                   357435   3911\n",
       "10                 1305398   3982"
      ],
      "text/html": "<div>\n<style scoped>\n    .dataframe tbody tr th:only-of-type {\n        vertical-align: middle;\n    }\n\n    .dataframe tbody tr th {\n        vertical-align: top;\n    }\n\n    .dataframe thead th {\n        text-align: right;\n    }\n</style>\n<table border=\"1\" class=\"dataframe\">\n  <thead>\n    <tr style=\"text-align: right;\">\n      <th></th>\n      <th>sum</th>\n      <th>count</th>\n    </tr>\n    <tr>\n      <th>prednisone_decile</th>\n      <th></th>\n      <th></th>\n    </tr>\n  </thead>\n  <tbody>\n    <tr>\n      <th>0</th>\n      <td>0</td>\n      <td>50788</td>\n    </tr>\n    <tr>\n      <th>1</th>\n      <td>50544</td>\n      <td>4402</td>\n    </tr>\n    <tr>\n      <th>2</th>\n      <td>71970</td>\n      <td>5160</td>\n    </tr>\n    <tr>\n      <th>3</th>\n      <td>44226</td>\n      <td>2683</td>\n    </tr>\n    <tr>\n      <th>4</th>\n      <td>86665</td>\n      <td>4460</td>\n    </tr>\n    <tr>\n      <th>5</th>\n      <td>79185</td>\n      <td>3377</td>\n    </tr>\n    <tr>\n      <th>6</th>\n      <td>114994</td>\n      <td>4004</td>\n    </tr>\n    <tr>\n      <th>7</th>\n      <td>145761</td>\n      <td>3887</td>\n    </tr>\n    <tr>\n      <th>8</th>\n      <td>213332</td>\n      <td>4011</td>\n    </tr>\n    <tr>\n      <th>9</th>\n      <td>357435</td>\n      <td>3911</td>\n    </tr>\n    <tr>\n      <th>10</th>\n      <td>1305398</td>\n      <td>3982</td>\n    </tr>\n  </tbody>\n</table>\n</div>"
     },
     "metadata": {},
     "execution_count": 235
    }
   ],
   "source": [
    "df_with_decile.groupby('prednisone_decile')['prednisone_rx'].agg(['sum','count'])"
   ]
  },
  {
   "cell_type": "code",
   "execution_count": 236,
   "metadata": {},
   "outputs": [
    {
     "output_type": "execute_result",
     "data": {
      "text/plain": [
       "                   sum  count\n",
       "market_decile                \n",
       "1               112282   9107\n",
       "2               180722   9773\n",
       "3               251712   8650\n",
       "4               385464   8861\n",
       "5               593625   9218\n",
       "6               829862   8916\n",
       "7              1196758   9024\n",
       "8              1709372   8996\n",
       "9              2614653   9086\n",
       "10             5673686   9034"
      ],
      "text/html": "<div>\n<style scoped>\n    .dataframe tbody tr th:only-of-type {\n        vertical-align: middle;\n    }\n\n    .dataframe tbody tr th {\n        vertical-align: top;\n    }\n\n    .dataframe thead th {\n        text-align: right;\n    }\n</style>\n<table border=\"1\" class=\"dataframe\">\n  <thead>\n    <tr style=\"text-align: right;\">\n      <th></th>\n      <th>sum</th>\n      <th>count</th>\n    </tr>\n    <tr>\n      <th>market_decile</th>\n      <th></th>\n      <th></th>\n    </tr>\n  </thead>\n  <tbody>\n    <tr>\n      <th>1</th>\n      <td>112282</td>\n      <td>9107</td>\n    </tr>\n    <tr>\n      <th>2</th>\n      <td>180722</td>\n      <td>9773</td>\n    </tr>\n    <tr>\n      <th>3</th>\n      <td>251712</td>\n      <td>8650</td>\n    </tr>\n    <tr>\n      <th>4</th>\n      <td>385464</td>\n      <td>8861</td>\n    </tr>\n    <tr>\n      <th>5</th>\n      <td>593625</td>\n      <td>9218</td>\n    </tr>\n    <tr>\n      <th>6</th>\n      <td>829862</td>\n      <td>8916</td>\n    </tr>\n    <tr>\n      <th>7</th>\n      <td>1196758</td>\n      <td>9024</td>\n    </tr>\n    <tr>\n      <th>8</th>\n      <td>1709372</td>\n      <td>8996</td>\n    </tr>\n    <tr>\n      <th>9</th>\n      <td>2614653</td>\n      <td>9086</td>\n    </tr>\n    <tr>\n      <th>10</th>\n      <td>5673686</td>\n      <td>9034</td>\n    </tr>\n  </tbody>\n</table>\n</div>"
     },
     "metadata": {},
     "execution_count": 236
    }
   ],
   "source": [
    "df_with_decile.groupby('market_decile')['market_rx'].agg(['sum','count'])"
   ]
  },
  {
   "cell_type": "code",
   "execution_count": null,
   "metadata": {},
   "outputs": [],
   "source": []
  }
 ]
}